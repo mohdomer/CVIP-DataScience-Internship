{
  "cells": [
    {
      "cell_type": "markdown",
      "metadata": {
        "id": "view-in-github",
        "colab_type": "text"
      },
      "source": [
        "<a href=\"https://colab.research.google.com/github/mohdomer/CVIP-DataScience-Internship/blob/main/speech_emotion_recognition.ipynb\" target=\"_parent\"><img src=\"https://colab.research.google.com/assets/colab-badge.svg\" alt=\"Open In Colab\"/></a>"
      ]
    },
    {
      "cell_type": "code",
      "execution_count": 1,
      "id": "761e9249",
      "metadata": {
        "id": "761e9249"
      },
      "outputs": [],
      "source": [
        "import pandas as pd\n",
        "import numpy as np\n",
        "import glob\n",
        "import soundfile\n",
        "import os\n",
        "import sys\n"
      ]
    },
    {
      "cell_type": "code",
      "execution_count": 2,
      "id": "0a3783a8",
      "metadata": {
        "id": "0a3783a8"
      },
      "outputs": [],
      "source": [
        "import librosa\n",
        "import librosa.display\n",
        "import seaborn as sns\n",
        "import matplotlib.pyplot as plt\n",
        "from sklearn import metrics"
      ]
    },
    {
      "cell_type": "code",
      "execution_count": 3,
      "id": "30ea555c",
      "metadata": {
        "id": "30ea555c"
      },
      "outputs": [],
      "source": [
        "from sklearn.preprocessing import StandardScaler,OneHotEncoder\n",
        "from sklearn.metrics import confusion_matrix,classification_report\n",
        "from sklearn.model_selection import train_test_split\n",
        "from sklearn.neural_network import MLPClassifier\n",
        "from sklearn.metrics import accuracy_score"
      ]
    },
    {
      "cell_type": "code",
      "execution_count": 4,
      "id": "97e11482",
      "metadata": {
        "id": "97e11482"
      },
      "outputs": [],
      "source": [
        "from IPython.display import Audio"
      ]
    },
    {
      "cell_type": "code",
      "execution_count": 5,
      "id": "33447075",
      "metadata": {
        "id": "33447075"
      },
      "outputs": [],
      "source": [
        "import warnings\n",
        "if not sys.warnoptions:\n",
        "    warnings.simplefilter(\"ignore\")\n",
        "warnings.filterwarnings(\"ignore\",category=DeprecationWarning)\n"
      ]
    },
    {
      "cell_type": "code",
      "source": [
        "! wget https://www.kaggle.com/datasets/uwrfkaggler/ravdess-emotional-speech-audio/download?datasetVersionNumber=1"
      ],
      "metadata": {
        "colab": {
          "base_uri": "https://localhost:8080/"
        },
        "id": "vd8ZS1ewUDTg",
        "outputId": "1a6b599e-a240-456a-9c7c-df6567fa69ae"
      },
      "id": "vd8ZS1ewUDTg",
      "execution_count": 8,
      "outputs": [
        {
          "output_type": "stream",
          "name": "stdout",
          "text": [
            "--2023-11-16 18:10:33--  https://www.kaggle.com/datasets/uwrfkaggler/ravdess-emotional-speech-audio/download?datasetVersionNumber=1\n",
            "Resolving www.kaggle.com (www.kaggle.com)... 35.244.233.98\n",
            "Connecting to www.kaggle.com (www.kaggle.com)|35.244.233.98|:443... connected.\n",
            "HTTP request sent, awaiting response... 302 Found\n",
            "Location: /account/login?titleType=dataset-downloads&showDatasetDownloadSkip=False&messageId=datasetsWelcome&returnUrl=%2Fdatasets%2Fuwrfkaggler%2Fravdess-emotional-speech-audio%2Fversions%2F1%3Fresource%3Ddownload [following]\n",
            "--2023-11-16 18:10:33--  https://www.kaggle.com/account/login?titleType=dataset-downloads&showDatasetDownloadSkip=False&messageId=datasetsWelcome&returnUrl=%2Fdatasets%2Fuwrfkaggler%2Fravdess-emotional-speech-audio%2Fversions%2F1%3Fresource%3Ddownload\n",
            "Reusing existing connection to www.kaggle.com:443.\n",
            "HTTP request sent, awaiting response... 200 OK\n",
            "Length: unspecified [text/html]\n",
            "Saving to: ‘download?datasetVersionNumber=1’\n",
            "\n",
            "download?datasetVer     [ <=>                ]   4.76K  --.-KB/s    in 0s      \n",
            "\n",
            "2023-11-16 18:10:33 (13.0 MB/s) - ‘download?datasetVersionNumber=1’ saved [4873]\n",
            "\n"
          ]
        }
      ]
    },
    {
      "cell_type": "code",
      "execution_count": 9,
      "id": "1610fc53",
      "metadata": {
        "id": "1610fc53"
      },
      "outputs": [],
      "source": [
        "Ravdessdata=\"audio_speech_actors_01-24\""
      ]
    },
    {
      "cell_type": "code",
      "execution_count": 11,
      "id": "816496fe",
      "metadata": {
        "id": "816496fe"
      },
      "outputs": [],
      "source": [
        "Directory=os.listdir(Ravdessdata)\n",
        "fileEmotion,filepath=[],[]\n",
        "for dir in Directory:\n",
        "    actor=os.listdir(Ravdessdata+dir)\n",
        "    for file in actor:\n",
        "        part=file.split('.')[0]\n",
        "        part=part.split('-')\n",
        "        fileEmotion.append(int(part[2]))\n",
        "        filepath.append(Ravdessdata+dir+'/'+file)\n",
        "emotion_df=pd.DataFrame(fileEmotion,columns=['Emotions'])\n",
        "path_df=pd.DataFrame(filepath,columns=['Path'])\n",
        "Ravdess_df=pd.concat([emotion_df,path_df],axis=1)"
      ]
    },
    {
      "cell_type": "code",
      "execution_count": null,
      "id": "1e3d55cc",
      "metadata": {
        "id": "1e3d55cc",
        "outputId": "c3f03759-7e38-4006-e9c3-21a83f3a439f"
      },
      "outputs": [
        {
          "data": {
            "text/html": [
              "<div>\n",
              "<style scoped>\n",
              "    .dataframe tbody tr th:only-of-type {\n",
              "        vertical-align: middle;\n",
              "    }\n",
              "\n",
              "    .dataframe tbody tr th {\n",
              "        vertical-align: top;\n",
              "    }\n",
              "\n",
              "    .dataframe thead th {\n",
              "        text-align: right;\n",
              "    }\n",
              "</style>\n",
              "<table border=\"1\" class=\"dataframe\">\n",
              "  <thead>\n",
              "    <tr style=\"text-align: right;\">\n",
              "      <th></th>\n",
              "      <th>Emotions</th>\n",
              "      <th>Path</th>\n",
              "    </tr>\n",
              "  </thead>\n",
              "  <tbody>\n",
              "    <tr>\n",
              "      <th>0</th>\n",
              "      <td>neutral</td>\n",
              "      <td>D:\\coderscave\\Ravdess\\audio_speech_actors_01-2...</td>\n",
              "    </tr>\n",
              "    <tr>\n",
              "      <th>1</th>\n",
              "      <td>neutral</td>\n",
              "      <td>D:\\coderscave\\Ravdess\\audio_speech_actors_01-2...</td>\n",
              "    </tr>\n",
              "    <tr>\n",
              "      <th>2</th>\n",
              "      <td>neutral</td>\n",
              "      <td>D:\\coderscave\\Ravdess\\audio_speech_actors_01-2...</td>\n",
              "    </tr>\n",
              "    <tr>\n",
              "      <th>3</th>\n",
              "      <td>neutral</td>\n",
              "      <td>D:\\coderscave\\Ravdess\\audio_speech_actors_01-2...</td>\n",
              "    </tr>\n",
              "    <tr>\n",
              "      <th>4</th>\n",
              "      <td>calm</td>\n",
              "      <td>D:\\coderscave\\Ravdess\\audio_speech_actors_01-2...</td>\n",
              "    </tr>\n",
              "    <tr>\n",
              "      <th>...</th>\n",
              "      <td>...</td>\n",
              "      <td>...</td>\n",
              "    </tr>\n",
              "    <tr>\n",
              "      <th>1435</th>\n",
              "      <td>surprise</td>\n",
              "      <td>D:\\coderscave\\Ravdess\\audio_speech_actors_01-2...</td>\n",
              "    </tr>\n",
              "    <tr>\n",
              "      <th>1436</th>\n",
              "      <td>surprise</td>\n",
              "      <td>D:\\coderscave\\Ravdess\\audio_speech_actors_01-2...</td>\n",
              "    </tr>\n",
              "    <tr>\n",
              "      <th>1437</th>\n",
              "      <td>surprise</td>\n",
              "      <td>D:\\coderscave\\Ravdess\\audio_speech_actors_01-2...</td>\n",
              "    </tr>\n",
              "    <tr>\n",
              "      <th>1438</th>\n",
              "      <td>surprise</td>\n",
              "      <td>D:\\coderscave\\Ravdess\\audio_speech_actors_01-2...</td>\n",
              "    </tr>\n",
              "    <tr>\n",
              "      <th>1439</th>\n",
              "      <td>surprise</td>\n",
              "      <td>D:\\coderscave\\Ravdess\\audio_speech_actors_01-2...</td>\n",
              "    </tr>\n",
              "  </tbody>\n",
              "</table>\n",
              "<p>1440 rows × 2 columns</p>\n",
              "</div>"
            ],
            "text/plain": [
              "      Emotions                                               Path\n",
              "0      neutral  D:\\coderscave\\Ravdess\\audio_speech_actors_01-2...\n",
              "1      neutral  D:\\coderscave\\Ravdess\\audio_speech_actors_01-2...\n",
              "2      neutral  D:\\coderscave\\Ravdess\\audio_speech_actors_01-2...\n",
              "3      neutral  D:\\coderscave\\Ravdess\\audio_speech_actors_01-2...\n",
              "4         calm  D:\\coderscave\\Ravdess\\audio_speech_actors_01-2...\n",
              "...        ...                                                ...\n",
              "1435  surprise  D:\\coderscave\\Ravdess\\audio_speech_actors_01-2...\n",
              "1436  surprise  D:\\coderscave\\Ravdess\\audio_speech_actors_01-2...\n",
              "1437  surprise  D:\\coderscave\\Ravdess\\audio_speech_actors_01-2...\n",
              "1438  surprise  D:\\coderscave\\Ravdess\\audio_speech_actors_01-2...\n",
              "1439  surprise  D:\\coderscave\\Ravdess\\audio_speech_actors_01-2...\n",
              "\n",
              "[1440 rows x 2 columns]"
            ]
          },
          "execution_count": 8,
          "metadata": {},
          "output_type": "execute_result"
        }
      ],
      "source": [
        "Ravdess_df.Emotions.replace({1:'neutral',2:'calm',3:'happy',4:'sad',5:'angry',6:'fear',7:'disgust',8:'surprise'},inplace=True)\n",
        "Ravdess_df"
      ]
    },
    {
      "cell_type": "code",
      "execution_count": null,
      "id": "53e7d0f4",
      "metadata": {
        "id": "53e7d0f4",
        "outputId": "7fb85bf0-914c-4386-9b6f-0dbcf4e1d473"
      },
      "outputs": [
        {
          "data": {
            "text/html": [
              "<div>\n",
              "<style scoped>\n",
              "    .dataframe tbody tr th:only-of-type {\n",
              "        vertical-align: middle;\n",
              "    }\n",
              "\n",
              "    .dataframe tbody tr th {\n",
              "        vertical-align: top;\n",
              "    }\n",
              "\n",
              "    .dataframe thead th {\n",
              "        text-align: right;\n",
              "    }\n",
              "</style>\n",
              "<table border=\"1\" class=\"dataframe\">\n",
              "  <thead>\n",
              "    <tr style=\"text-align: right;\">\n",
              "      <th></th>\n",
              "      <th>Emotions</th>\n",
              "      <th>Path</th>\n",
              "    </tr>\n",
              "  </thead>\n",
              "  <tbody>\n",
              "    <tr>\n",
              "      <th>0</th>\n",
              "      <td>neutral</td>\n",
              "      <td>D:\\coderscave\\Ravdess\\audio_speech_actors_01-2...</td>\n",
              "    </tr>\n",
              "    <tr>\n",
              "      <th>1</th>\n",
              "      <td>neutral</td>\n",
              "      <td>D:\\coderscave\\Ravdess\\audio_speech_actors_01-2...</td>\n",
              "    </tr>\n",
              "    <tr>\n",
              "      <th>2</th>\n",
              "      <td>neutral</td>\n",
              "      <td>D:\\coderscave\\Ravdess\\audio_speech_actors_01-2...</td>\n",
              "    </tr>\n",
              "    <tr>\n",
              "      <th>3</th>\n",
              "      <td>neutral</td>\n",
              "      <td>D:\\coderscave\\Ravdess\\audio_speech_actors_01-2...</td>\n",
              "    </tr>\n",
              "    <tr>\n",
              "      <th>4</th>\n",
              "      <td>calm</td>\n",
              "      <td>D:\\coderscave\\Ravdess\\audio_speech_actors_01-2...</td>\n",
              "    </tr>\n",
              "  </tbody>\n",
              "</table>\n",
              "</div>"
            ],
            "text/plain": [
              "  Emotions                                               Path\n",
              "0  neutral  D:\\coderscave\\Ravdess\\audio_speech_actors_01-2...\n",
              "1  neutral  D:\\coderscave\\Ravdess\\audio_speech_actors_01-2...\n",
              "2  neutral  D:\\coderscave\\Ravdess\\audio_speech_actors_01-2...\n",
              "3  neutral  D:\\coderscave\\Ravdess\\audio_speech_actors_01-2...\n",
              "4     calm  D:\\coderscave\\Ravdess\\audio_speech_actors_01-2..."
            ]
          },
          "execution_count": 9,
          "metadata": {},
          "output_type": "execute_result"
        }
      ],
      "source": [
        "datapath=pd.concat([Ravdess_df],axis=0)\n",
        "datapath.to_csv(\"data_path.csv\",index=False)\n",
        "datapath.head()"
      ]
    },
    {
      "cell_type": "code",
      "execution_count": null,
      "id": "0f9e0b29",
      "metadata": {
        "id": "0f9e0b29"
      },
      "outputs": [],
      "source": [
        "def extractFeature(filename,mfcc,chroma,mel):\n",
        "    with soundfile.SoundFile(filename) as soundFile:\n",
        "        X=soundFile.read(dtype=\"float32\")\n",
        "        sampleRate=soundFile.samplerate\n",
        "        if chroma:\n",
        "            stft=np.abs(librosa.stft(X))\n",
        "        result=np.array([])\n",
        "        if mfcc:\n",
        "            mfccs=np.mean(librosa.feature.mfcc(y=X,sr=sampleRate,n_mfcc=40).T,axis=0)\n",
        "            result=np.hstack((result,mfccs))\n",
        "        if chroma:\n",
        "            chroma=np.mean(librosa.feature.chroma_stft(S=stft,sr=sampleRate).T,axis=0)\n",
        "        if mel:\n",
        "            mel=np.mean(librosa.feature.melspectrogram(X,sr=sampleRate).T,axis=0)\n",
        "            result=np.hstack((result,mel))\n",
        "    return result"
      ]
    },
    {
      "cell_type": "code",
      "execution_count": null,
      "id": "603e6a39",
      "metadata": {
        "id": "603e6a39"
      },
      "outputs": [],
      "source": [
        "emotions={\n",
        "    '01':'neutral',\n",
        "    '02':'calm',\n",
        "    '03':'happy',\n",
        "    '04':'sad',\n",
        "    '05':'angry',\n",
        "    '06':'fearful',\n",
        "    '07':'disgust',\n",
        "    '08':'surprised'\n",
        "}\n",
        "observed=['calm','happy','fearful','disgust']"
      ]
    },
    {
      "cell_type": "code",
      "execution_count": null,
      "id": "32449536",
      "metadata": {
        "id": "32449536"
      },
      "outputs": [],
      "source": [
        "def loadData():\n",
        "    x,y=[],[]\n",
        "    for file in glob.glob(\"D:\\\\coderscave\\\\Ravdess\\\\audio_speech_actors_01-24\\\\Actor_*\\\\*.wav\"):\n",
        "        fileName=os.path.basename(file)\n",
        "        emotion1=emotions[fileName.split(\"-\")[2]]\n",
        "        if emotion1 not in observed:\n",
        "            continue\n",
        "        feature=extractFeature(file,mfcc=True,chroma=True,mel=True)\n",
        "        x.append(feature)\n",
        "        y.append(feature)\n",
        "    return train_test_split(np.array(x),y,test_size=0.2,random_state=9)\n"
      ]
    },
    {
      "cell_type": "code",
      "execution_count": null,
      "id": "427637b1",
      "metadata": {
        "id": "427637b1",
        "outputId": "1a3e81e3-9f39-4557-e6ec-bca9778555e2"
      },
      "outputs": [
        {
          "name": "stdout",
          "output_type": "stream",
          "text": [
            "/content/Actor_01\n",
            "/content/Actor_13\n",
            "/content/Actor_03\n",
            "/content/Actor_04\n",
            "/content/Actor_05\n",
            "/content/Actor_18\n",
            "/content/Actor_07\n",
            "/content/Actor_02\n",
            "/content/Actor_14\n",
            "/content/Actor_21\n",
            "/content/Actor_08\n",
            "/content/Actor_15\n",
            "/content/Actor_17\n",
            "/content/Actor_10\n",
            "/content/Actor_16\n",
            "/content/Actor_11\n",
            "/content/Actor_09\n",
            "/content/Actor_06\n",
            "/content/Actor_24\n",
            "/content/Actor_20\n",
            "/content/Actor_23\n",
            "/content/Actor_12\n",
            "/content/Actor_19\n",
            "/content/Actor_22\n"
          ]
        }
      ],
      "source": [
        "x_train,x_test,y_train,y_test=load_data(test_size=0.2)"
      ]
    },
    {
      "cell_type": "code",
      "execution_count": null,
      "id": "9dd3c96c",
      "metadata": {
        "id": "9dd3c96c",
        "outputId": "89f51df5-ab42-4a40-8fd1-95ec5bc65b2a"
      },
      "outputs": [
        {
          "name": "stdout",
          "output_type": "stream",
          "text": [
            "(614, 154)\n",
            "Features extracted: 180\n"
          ]
        }
      ],
      "source": [
        "print((x_train.shape[0], x_test.shape[0]))\n",
        "print(f'Features extracted: {x_train.shape[1]}')"
      ]
    },
    {
      "cell_type": "code",
      "execution_count": null,
      "id": "5d980d29",
      "metadata": {
        "id": "5d980d29"
      },
      "outputs": [],
      "source": [
        "model = MLPClassifier(alpha = 0.01, batch_size = 256, epsilon = 1e-08, hidden_layer_sizes = (300,), learning_rate = 'adaptive', max_iter = 500)"
      ]
    },
    {
      "cell_type": "code",
      "execution_count": null,
      "id": "b380dca3",
      "metadata": {
        "id": "b380dca3"
      },
      "outputs": [],
      "source": [
        "y_pred = model.predict(x_test)"
      ]
    },
    {
      "cell_type": "code",
      "execution_count": null,
      "id": "8f95e9d8",
      "metadata": {
        "id": "8f95e9d8",
        "outputId": "8f72f22b-6678-4b90-ecbf-05cc8cddb4d3"
      },
      "outputs": [
        {
          "name": "stdout",
          "output_type": "stream",
          "text": [
            "Accuracy: 75.97%\n"
          ]
        }
      ],
      "source": [
        "accuracy = accuracy_score(y_test, y_pred)\n",
        "print(\"Accuracy: {:.2f}%\".format(accuracy*100))"
      ]
    }
  ],
  "metadata": {
    "kernelspec": {
      "display_name": "Python 3 (ipykernel)",
      "language": "python",
      "name": "python3"
    },
    "language_info": {
      "codemirror_mode": {
        "name": "ipython",
        "version": 3
      },
      "file_extension": ".py",
      "mimetype": "text/x-python",
      "name": "python",
      "nbconvert_exporter": "python",
      "pygments_lexer": "ipython3",
      "version": "3.9.12"
    },
    "colab": {
      "provenance": [],
      "include_colab_link": true
    }
  },
  "nbformat": 4,
  "nbformat_minor": 5
}